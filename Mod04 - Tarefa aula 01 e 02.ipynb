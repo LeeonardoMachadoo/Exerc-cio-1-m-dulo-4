{
 "cells": [
  {
   "cell_type": "markdown",
   "metadata": {},
   "source": [
    "# Tarefa 01\n",
    "\n",
    "- Leia os enunciados com atenção\n",
    "- Saiba que pode haver mais de uma resposta correta\n",
    "- Insira novas células de código sempre que achar necessário\n",
    "- Em caso de dúvidas, procure os tutores\n",
    "- Divirta-se :)\n",
    "\n",
    "#### 1)  crie uma série do pandas a partir de uma lista com os dados abaixo:\n",
    "\n",
    "Em um estudo sobre alteração na tempreatura global, A NASA disponibiliza dados de diferenças de de temperatura média da superfície terrestre relativos às médias de temperatura entre 1951 e 1980. Os dados originais podem ser vistos no site da NASA/GISS, e estão dispostos a cada década na tabela abaixo.\n",
    "\n",
    "|ano|anomalia termica|\n",
    "|:-:|:----:|\n",
    "| 1900 | -0.08 |\n",
    "| 1920 | -0.27 |\n",
    "| 1940 | 0.12 |\n",
    "| 1960 | -0.03 |\n",
    "| 1980 | 0.26 |\n",
    "| 2000 | 0.40 |\n",
    "| 2020 | 1.02 |\n",
    "\n",
    "Crie uma séries do Pandas a partir de uma lista com esses dados."
   ]
  },
  {
   "cell_type": "code",
   "execution_count": 15,
   "metadata": {},
   "outputs": [
    {
     "name": "stdout",
     "output_type": "stream",
     "text": [
      "1900   -0.08\n",
      "1920   -0.27\n",
      "1940    0.12\n",
      "1960   -0.03\n",
      "1980    0.26\n",
      "2000    0.40\n",
      "2020    1.02\n",
      "dtype: float64\n"
     ]
    }
   ],
   "source": [
    "import pandas as pd\n",
    "\n",
    "# Dados fornecidos\n",
    "dados = {\n",
    "    'ano': [1900, 1920, 1940, 1960, 1980, 2000, 2020],\n",
    "    'anomalia_termica': [-0.08, -0.27, 0.12, -0.03, 0.26, 0.40, 1.02]\n",
    "}\n",
    "\n",
    "# Criando a série do Pandas com os anos como índices\n",
    "serie_temperatura = pd.Series(data=dados['anomalia_termica'], index=dados['ano'])\n",
    "\n",
    "# Exibindo a série\n",
    "print(serie_temperatura)\n",
    "\n"
   ]
  },
  {
   "cell_type": "markdown",
   "metadata": {},
   "source": [
    "#### 2) Coloque os anos nos índices conforme a tabela."
   ]
  },
  {
   "cell_type": "code",
   "execution_count": 6,
   "metadata": {},
   "outputs": [],
   "source": [
    "\n",
    "# seu código aqui (NÃO ENTENDI O QUE ERA PARA FAZER,  o exercício 1 pede para criar uma série a partir de uma lista, enquanto o exercício 2 enfatizava a necessidade de ter os anos nos índices, o que já estava implícito no exercício 1)\n"
   ]
  },
  {
   "cell_type": "markdown",
   "metadata": {},
   "source": [
    "#### 3) A partir do dicionário abaixo, crie uma séries do Pandas:"
   ]
  },
  {
   "cell_type": "code",
   "execution_count": 7,
   "metadata": {},
   "outputs": [
    {
     "name": "stdout",
     "output_type": "stream",
     "text": [
      "1900   -0.08\n",
      "1920   -0.27\n",
      "1940    0.12\n",
      "1960   -0.03\n",
      "1980    0.26\n",
      "2000    0.40\n",
      "2020    1.02\n",
      "dtype: float64\n"
     ]
    }
   ],
   "source": [
    "dic_temperaturas = {1900: -.08, 1920: -.27, 1940: .12, 1960: -.03, 1980: .26, 2000: .40, 2020: 1.02}\n",
    "\n",
    "# seu código aqui\n",
    "\n",
    "dic_temperaturas = {1900: -.08, 1920: -.27, 1940: .12, 1960: -.03, 1980: .26, 2000: .40, 2020: 1.02}\n",
    "serie_temperatura = pd.Series(dic_temperaturas)\n",
    "\n",
    "print(serie_temperatura)\n"
   ]
  },
  {
   "cell_type": "markdown",
   "metadata": {},
   "source": [
    "#### 4) Transforme o ndarray abaixo em um dataframe. \n",
    "O numpy é capaz de gerar arrays n-dimensionais com números pseudo-aleatórios de acordo com uma variedade de distribuições, como no exemplo abaixo. Transforme esse nd-array em um DataFrame."
   ]
  },
  {
   "cell_type": "code",
   "execution_count": 9,
   "metadata": {},
   "outputs": [
    {
     "name": "stdout",
     "output_type": "stream",
     "text": [
      "       Coluna1     Coluna2     Coluna3\n",
      "0    90.963857  101.374545  111.645942\n",
      "1   111.929469   96.803772   90.000151\n",
      "2   105.048461  108.869788   82.951222\n",
      "3   101.560532  110.568042  114.927758\n",
      "4    92.673610   94.419874  117.389067\n",
      "5    96.919365   99.708940  115.495147\n",
      "6    91.266560   94.993884   86.657891\n",
      "7    89.260494  108.441669   90.600109\n",
      "8   100.647857  109.081209  107.951289\n",
      "9   117.118027  100.464784  101.411972\n",
      "10   95.210996   86.684802   82.917475\n",
      "11   98.797813   93.285287  105.043383\n",
      "12   99.068081   97.343398  108.793729\n",
      "13  100.569961  105.391120   99.346894\n",
      "14  102.717850   94.123282  100.210228\n",
      "15  102.337864  107.423341   86.381143\n",
      "16  111.443592  100.757854  106.658382\n",
      "17  120.446243   95.886524  116.032806\n",
      "18   90.552969  101.464148  106.905284\n",
      "19   88.315462  105.777427   95.738603\n"
     ]
    }
   ],
   "source": [
    "arr = np.random.normal(100, 10, (20,3))\n",
    "\n",
    "# seu código aqui\n",
    "\n",
    "arr = np.random.normal(100, 10, (20,3))\n",
    "df = pd.DataFrame(arr, columns=['Coluna1', 'Coluna2', 'Coluna3'])\n",
    "\n",
    "print(df)\n"
   ]
  },
  {
   "cell_type": "markdown",
   "metadata": {},
   "source": [
    "#### 5) Nomeie os índices das linhas com inteiros de 1 a 20, e as colunas com os nomes \"x1\", \"x2\", e \"x3\" respectivamente."
   ]
  },
  {
   "cell_type": "code",
   "execution_count": 10,
   "metadata": {},
   "outputs": [
    {
     "name": "stdout",
     "output_type": "stream",
     "text": [
      "            x1          x2          x3\n",
      "1    99.492324   95.587301  111.402576\n",
      "2   104.672494  109.203676  113.875908\n",
      "3   107.642959  101.425932   86.073308\n",
      "4   111.598890   93.743214   91.572271\n",
      "5    86.867583  100.348503   87.058773\n",
      "6   115.374836   95.423449   94.936130\n",
      "7    94.537793  118.585366   97.873891\n",
      "8   108.618347  104.061454   98.972043\n",
      "9    87.756542   95.814991  105.257858\n",
      "10   97.764580  108.428168  110.393483\n",
      "11  100.748847  116.888061   91.317624\n",
      "12   91.278671  111.665249  103.024581\n",
      "13   91.257048  109.574305   95.956077\n",
      "14  122.153562  117.632563  105.257608\n",
      "15   83.357094  106.196930  105.069219\n",
      "16   86.164400   91.728354  105.670985\n",
      "17  106.940814  113.634081   93.620224\n",
      "18  106.394296   95.376361  109.090356\n",
      "19  113.158562   91.050657   90.147206\n",
      "20  110.200414   91.000965  105.468463\n"
     ]
    }
   ],
   "source": [
    "#seu código aqui\n",
    "\n",
    "arr = np.random.normal(100, 10, (20,3))\n",
    "df = pd.DataFrame(arr, columns=['x1', 'x2', 'x3'])\n",
    "\n",
    "df.index = range(1, 21)\n",
    "\n",
    "print(df)\n"
   ]
  },
  {
   "cell_type": "markdown",
   "metadata": {},
   "source": [
    "#### 6) No DataFrame do exercício 5, crie uma nova coluna como sendo a média das três colunas, e dê a ela o nome de \"media\" (não recomendo colocar acentos em nomes de variáveis)."
   ]
  },
  {
   "cell_type": "code",
   "execution_count": 12,
   "metadata": {},
   "outputs": [
    {
     "name": "stdout",
     "output_type": "stream",
     "text": [
      "            x1          x2          x3       media\n",
      "1   102.734000  103.474777  104.097612  103.435463\n",
      "2    85.794500  115.267539   87.768615   96.276884\n",
      "3    97.379068   99.694257  106.339812  101.137712\n",
      "4   105.020685  101.599058   95.898354  100.839365\n",
      "5    92.282019   97.754802   86.825498   92.287440\n",
      "6    92.249626   91.822558   94.549605   92.873930\n",
      "7   111.364815  115.951928   97.729809  108.348851\n",
      "8   101.937883  103.096097  100.895132  101.976371\n",
      "9   112.209749  110.785325   85.327283  102.774119\n",
      "10   82.114810  106.401912  111.646563  100.054429\n",
      "11   77.615464  101.630250  121.138517  100.128077\n",
      "12   99.317723  108.207096   92.085190   99.870003\n",
      "13   99.527570   99.289980   96.081610   98.299720\n",
      "14  105.514543   99.359224   95.426217  100.099995\n",
      "15  111.248472   94.726191   93.314106   99.762923\n",
      "16  100.146639   92.494745  110.859768  101.167051\n",
      "17  103.378883  107.023920  100.209831  103.537545\n",
      "18   94.281437   99.773421  101.761173   98.605344\n",
      "19  101.744833   86.709256  120.956101  103.136730\n",
      "20   86.196710  111.594612   89.647561   95.812961\n"
     ]
    }
   ],
   "source": [
    "# seu código aqui\n",
    "\n",
    "arr = np.random.normal(100, 10, (20,3))\n",
    "df = pd.DataFrame(arr, columns=['x1', 'x2', 'x3'])\n",
    "df.index = range(1, 21)\n",
    "\n",
    "df['media'] = df.mean(axis=1)\n",
    "\n",
    "\n",
    "print(df)\n"
   ]
  },
  {
   "cell_type": "markdown",
   "metadata": {},
   "source": [
    "#### 7) No DataFrame do exercício 6, crie uma nova coluna chamada \"log_med\", contendo o logaritmo natural da média calculada no exercício 6 <br>"
   ]
  },
  {
   "cell_type": "code",
   "execution_count": 13,
   "metadata": {},
   "outputs": [
    {
     "name": "stdout",
     "output_type": "stream",
     "text": [
      "            x1          x2          x3       media   log_med\n",
      "1   106.408679   79.873758  102.380877   96.221105  4.566649\n",
      "2   110.002378   99.395795   94.772909  101.390361  4.618978\n",
      "3   100.611054  103.699360  122.550835  108.953750  4.690923\n",
      "4    99.574236   82.059862  104.403171   95.345756  4.557510\n",
      "5    99.097665   82.012352   94.832233   91.980750  4.521579\n",
      "6    96.033637   98.425376  106.539181  100.332731  4.608492\n",
      "7    93.360172   96.232110  103.099280   97.563854  4.580507\n",
      "8    83.498873  110.988735  108.952568  101.146726  4.616572\n",
      "9    96.520305  107.683156  111.561736  105.255066  4.656387\n",
      "10   97.218866  103.912794   73.244266   91.458642  4.515887\n",
      "11   97.787479  105.107103   79.927537   94.274039  4.546206\n",
      "12  102.879011   96.314808  122.704302  107.299374  4.675623\n",
      "13   92.547790  110.313408   88.985838   97.282345  4.577618\n",
      "14  118.993136  109.806467  104.608772  111.136125  4.710756\n",
      "15  107.211115  104.322951   88.565132  100.033066  4.605501\n",
      "16   93.834470   98.743721   92.438814   95.005668  4.553937\n",
      "17  100.563290   97.609878   75.332693   91.168620  4.512711\n",
      "18  102.798237  100.874823  115.248292  106.307117  4.666332\n",
      "19  107.632910   83.747815  102.882574   98.087766  4.585863\n",
      "20  102.439516   82.444163  106.538498   97.140725  4.576161\n"
     ]
    }
   ],
   "source": [
    "# seu código aqui\n",
    "\n",
    "arr = np.random.normal(100, 10, (20,3))\n",
    "df = pd.DataFrame(arr, columns=['x1', 'x2', 'x3'])\n",
    "df.index = range(1, 21)\n",
    "df['media'] = df.mean(axis=1)\n",
    "\n",
    "df['log_med'] = np.log(df['media'])\n",
    "\n",
    "print(df)\n"
   ]
  },
  {
   "cell_type": "code",
   "execution_count": null,
   "metadata": {},
   "outputs": [],
   "source": []
  }
 ],
 "metadata": {
  "kernelspec": {
   "display_name": "Python 3 (ipykernel)",
   "language": "python",
   "name": "python3"
  },
  "language_info": {
   "codemirror_mode": {
    "name": "ipython",
    "version": 3
   },
   "file_extension": ".py",
   "mimetype": "text/x-python",
   "name": "python",
   "nbconvert_exporter": "python",
   "pygments_lexer": "ipython3",
   "version": "3.11.7"
  }
 },
 "nbformat": 4,
 "nbformat_minor": 4
}
